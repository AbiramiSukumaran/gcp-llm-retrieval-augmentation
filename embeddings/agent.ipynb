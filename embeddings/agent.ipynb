{
 "cells": [
  {
   "cell_type": "markdown",
   "id": "03653ed1-e6d7-431a-a9fa-5fb2db83131e",
   "metadata": {},
   "source": [
    "## Create a LangChain Firestore  class\n",
    "\n",
    "In order to integrate our documents from Firestore in a LangChain RetrievalQA Agent\n",
    "we need to create a custom LangChain Retriever class to get the documents from our Firestore DB."
   ]
  },
  {
   "cell_type": "code",
   "execution_count": 1,
   "id": "e539735d-c0fa-49b3-b031-d27ea61753c4",
   "metadata": {},
   "outputs": [],
   "source": [
    "from typing import Any, Dict, List, Optional, Union\n",
    "\n",
    "import numpy as np\n",
    "import firebase_admin\n",
    "from firebase_admin import firestore\n",
    "from google.cloud import aiplatform\n",
    "from langchain.schema import BaseRetriever, Document\n",
    "from langchain.callbacks.manager import CallbackManagerForRetrieverRun, AsyncCallbackManagerForRetrieverRun\n",
    "from langchain.embeddings.base import Embeddings\n",
    "from langchain.embeddings import TensorflowHubEmbeddings"
   ]
  },
  {
   "cell_type": "code",
   "execution_count": 2,
   "id": "cdb880b6-4bac-4822-8253-20b4ab83db57",
   "metadata": {},
   "outputs": [
    {
     "name": "stderr",
     "output_type": "stream",
     "text": [
      "2023-08-02 16:59:18.912753: I tensorflow/tsl/cuda/cudart_stub.cc:28] Could not find cuda drivers on your machine, GPU will not be used.\n",
      "2023-08-02 16:59:18.944074: I tensorflow/tsl/cuda/cudart_stub.cc:28] Could not find cuda drivers on your machine, GPU will not be used.\n",
      "2023-08-02 16:59:18.944493: I tensorflow/core/platform/cpu_feature_guard.cc:182] This TensorFlow binary is optimized to use available CPU instructions in performance-critical operations.\n",
      "To enable the following instructions: AVX2 FMA, in other operations, rebuild TensorFlow with the appropriate compiler flags.\n",
      "2023-08-02 16:59:19.622580: W tensorflow/compiler/tf2tensorrt/utils/py_utils.cc:38] TF-TRT Warning: Could not find TensorRT\n"
     ]
    }
   ],
   "source": [
    "model_url = \"https://tfhub.dev/google/universal-sentence-encoder-multilingual/3\"\n",
    "embeddings = TensorflowHubEmbeddings(model_url=model_url)"
   ]
  },
  {
   "cell_type": "code",
   "execution_count": 3,
   "id": "fb7a5c1c-4383-4fe8-9a9e-a034db74703f",
   "metadata": {},
   "outputs": [],
   "source": [
    "# Application Default credentials are automatically created.\n",
    "app = firebase_admin.initialize_app()\n",
    "db = firestore.client()"
   ]
  },
  {
   "cell_type": "code",
   "execution_count": 4,
   "id": "10fc3d85-2251-4749-8ca2-e4adc212016c",
   "metadata": {},
   "outputs": [
    {
     "name": "stdout",
     "output_type": "stream",
     "text": [
      "Document data: {'title': 'Dwight_D._Eisenhower', 'context': 'Eisenhower responded to the French defeat with the formation of the SEATO (Southeast Asia Treaty Organization) Alliance with the U.K., France, New Zealand and Australia in defense of Vietnam against communism. At that time the French and Chinese reconvened Geneva peace talks; Eisenhower agreed the U.S. would participate only as an observer. After France and the Communists agreed to a partition of Vietnam, Eisenhower rejected the agreement, offering military and economic aid to southern Vietnam. Ambrose argues that Eisenhower, by not participating in the Geneva agreement, had kept the U.S out of Vietnam; nevertheless, with the formation of SEATO, he had in the end put the U.S. back into the conflict.', 'answers': {'text': ['Southeast Asia Treaty Organization'], 'answer_start': [75]}, 'question': 'What is SEATO?'}\n"
     ]
    }
   ],
   "source": [
    "doc_ref = db.collection(\"questions\").document(\"573273bfe17f3d1400422993\")\n",
    "\n",
    "doc = doc_ref.get()\n",
    "if doc.exists:\n",
    "    print(f\"Document data: {doc.to_dict()}\")\n",
    "else:\n",
    "    print(\"No such document!\")"
   ]
  },
  {
   "cell_type": "code",
   "execution_count": 5,
   "id": "c5c1efd1-0cc0-4195-9f5a-b37b60b2a28e",
   "metadata": {},
   "outputs": [],
   "source": [
    "class FirestoreRetriever(BaseRetriever):\n",
    "\n",
    "    index_endpoint_name: str\n",
    "    deployed_index_id: str\n",
    "    embeddings: Embeddings\n",
    "    collection: str\n",
    "    top_k: int = 5\n",
    "\n",
    "    def _similarity_search(self, query_emb: np.ndarray):\n",
    "        \"\"\"\n",
    "        Perform a similarity search.\n",
    "\n",
    "        Args:\n",
    "            query_emb: Query represented as an embedding\n",
    "\n",
    "        Returns:\n",
    "            A list of documents most similar to the query\n",
    "        \"\"\"\n",
    "        my_index_endpoint = aiplatform.MatchingEngineIndexEndpoint(\n",
    "            index_endpoint_name=self.index_endpoint_name\n",
    "        )\n",
    "\n",
    "        similar_docs = my_index_endpoint.find_neighbors(\n",
    "            deployed_index_id=self.deployed_index_id, \n",
    "            queries=query_emb,\n",
    "            num_neighbors=self.top_k\n",
    "        )\n",
    "\n",
    "        return similar_docs\n",
    "    \n",
    "    def _get_relevant_documents(\n",
    "        self, query: str, *, run_manager: CallbackManagerForRetrieverRun\n",
    "    ) -> List[Document]:\n",
    "        query_embedding = self.embeddings.embed_documents([query])\n",
    "        similar_docs = self._similarity_search(query_embedding)\n",
    "\n",
    "        relevant_docs = []\n",
    "        for doc in similar_docs[0]:\n",
    "            doc_id = doc.id\n",
    "            doc_ref = db.collection(self.collection).document(doc_id)\n",
    "\n",
    "            doc = doc_ref.get()\n",
    "            relevant_docs.append(self._firestore_doc_to_langchain_doc(doc))\n",
    "        return relevant_docs\n",
    "         \n",
    "\n",
    "    async def _aget_relevant_documents(\n",
    "        self, query: str, *, run_manager: AsyncCallbackManagerForRetrieverRun\n",
    "    ) -> List[Document]:\n",
    "        raise NotImplementedError()\n",
    "\n",
    "    def _firestore_doc_to_langchain_doc(self, fs_doc) -> Document:\n",
    "        lc_doc = Document(\n",
    "            page_content=fs_doc.get(\"context\")\n",
    "        )\n",
    "        return lc_doc"
   ]
  },
  {
   "cell_type": "markdown",
   "id": "6e9a9119-3851-4a96-b551-77b0578793e2",
   "metadata": {},
   "source": [
    "## Test the retriever"
   ]
  },
  {
   "cell_type": "code",
   "execution_count": 6,
   "id": "ab712d8a-07a2-490b-8675-efe908498ce8",
   "metadata": {},
   "outputs": [],
   "source": [
    "retriever = FirestoreRetriever(\n",
    "    index_endpoint_name=\"1221803709063757824\",\n",
    "    deployed_index_id=\"questions\",\n",
    "    collection=\"questions\",\n",
    "    embeddings = embeddings,\n",
    "    top_k=1\n",
    ")"
   ]
  },
  {
   "cell_type": "code",
   "execution_count": 7,
   "id": "1d3e940b-0457-41e0-8739-b5768bafc1e7",
   "metadata": {},
   "outputs": [],
   "source": [
    "query = \"when was the college of engineering in the University of Notre Dame established?\"\n",
    "query = \"In what year did the initial degrees get handed out at Notre Dame?\""
   ]
  },
  {
   "cell_type": "code",
   "execution_count": 8,
   "id": "a07e6fee-0984-434f-bac3-9a74e79ad301",
   "metadata": {},
   "outputs": [
    {
     "data": {
      "text/plain": [
       "[Document(page_content='The first degrees from the college were awarded in 1849. The university was expanded with new buildings to accommodate more students and faculty. With each new president, new academic programs were offered and new buildings built to accommodate them. The original Main Building built by Sorin just after he arrived was replaced by a larger \"Main Building\" in 1865, which housed the university\\'s administration, classrooms, and dormitories. Beginning in 1873, a library collection was started by Father Lemonnier. By 1879 it had grown to ten thousand volumes that were housed in the Main Building.', metadata={})]"
      ]
     },
     "execution_count": 8,
     "metadata": {},
     "output_type": "execute_result"
    }
   ],
   "source": [
    "retriever.get_relevant_documents(query=query)"
   ]
  },
  {
   "cell_type": "markdown",
   "id": "2c9edce9-9551-43e8-b5ca-ebf03c1e7808",
   "metadata": {},
   "source": [
    "## LangChain RetrievalQA\n",
    "\n",
    "With our custom LangChain Retrieval class we can use in our LangChain agent"
   ]
  },
  {
   "cell_type": "code",
   "execution_count": 9,
   "id": "988ffb1f-df74-4b39-afb7-5dbdd5a76ed0",
   "metadata": {},
   "outputs": [],
   "source": [
    "from langchain.chat_models import ChatVertexAI\n",
    "from langchain.chains import RetrievalQA"
   ]
  },
  {
   "cell_type": "code",
   "execution_count": 10,
   "id": "bb1f2bc2-a4b4-423a-bc80-c0f045654ffd",
   "metadata": {},
   "outputs": [],
   "source": [
    "llm = ChatVertexAI()"
   ]
  },
  {
   "cell_type": "code",
   "execution_count": 11,
   "id": "1ed65fbc-2b7a-4db7-9da9-10c00cfc16e5",
   "metadata": {},
   "outputs": [],
   "source": [
    "retriever = FirestoreRetriever(\n",
    "    index_endpoint_name=\"1221803709063757824\",\n",
    "    deployed_index_id=\"questions\",\n",
    "    collection=\"questions\",\n",
    "    embeddings = embeddings,\n",
    "    top_k=5\n",
    ")"
   ]
  },
  {
   "cell_type": "code",
   "execution_count": 12,
   "id": "01f201de-141b-412b-a003-f3e9ea8aef35",
   "metadata": {},
   "outputs": [],
   "source": [
    "qa = RetrievalQA.from_chain_type(\n",
    "    llm=llm,\n",
    "    chain_type=\"stuff\",\n",
    "    retriever=retriever\n",
    ")"
   ]
  },
  {
   "cell_type": "code",
   "execution_count": 13,
   "id": "38c02ae9-0f7a-43be-b6e2-d005f0f1bbf9",
   "metadata": {},
   "outputs": [],
   "source": [
    "query = \"In what year did the initial degrees get handed out at Notre Dame?\""
   ]
  },
  {
   "cell_type": "code",
   "execution_count": 14,
   "id": "01e67fb3-3333-401e-b9a3-b0232aa1e68c",
   "metadata": {},
   "outputs": [
    {
     "data": {
      "text/plain": [
       "'The first degrees from the college were awarded in 1849.'"
      ]
     },
     "execution_count": 14,
     "metadata": {},
     "output_type": "execute_result"
    }
   ],
   "source": [
    "qa.run(query)"
   ]
  },
  {
   "cell_type": "code",
   "execution_count": null,
   "id": "acc97796-78ea-4be2-86f3-e5f0f8b16737",
   "metadata": {},
   "outputs": [],
   "source": []
  }
 ],
 "metadata": {
  "kernelspec": {
   "display_name": "Python 3 (ipykernel)",
   "language": "python",
   "name": "python3"
  },
  "language_info": {
   "codemirror_mode": {
    "name": "ipython",
    "version": 3
   },
   "file_extension": ".py",
   "mimetype": "text/x-python",
   "name": "python",
   "nbconvert_exporter": "python",
   "pygments_lexer": "ipython3",
   "version": "3.9.16"
  }
 },
 "nbformat": 4,
 "nbformat_minor": 5
}
