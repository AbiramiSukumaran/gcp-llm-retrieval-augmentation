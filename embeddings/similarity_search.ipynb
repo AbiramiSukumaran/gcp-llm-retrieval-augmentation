{
 "cells": [
  {
   "cell_type": "code",
   "execution_count": 1,
   "id": "c044f9b8-cf27-4c45-ae0f-a2b3a445fb7f",
   "metadata": {},
   "outputs": [],
   "source": [
    "from langchain.vectorstores import MatchingEngine\n",
    "from langchain.embeddings import TensorflowHubEmbeddings"
   ]
  },
  {
   "cell_type": "code",
   "execution_count": 2,
   "id": "fefc1146-e08c-4cf3-8a99-7a4a89dfb018",
   "metadata": {},
   "outputs": [
    {
     "name": "stderr",
     "output_type": "stream",
     "text": [
      "2023-07-27 20:07:52.094555: I tensorflow/tsl/cuda/cudart_stub.cc:28] Could not find cuda drivers on your machine, GPU will not be used.\n",
      "2023-07-27 20:07:52.126501: I tensorflow/tsl/cuda/cudart_stub.cc:28] Could not find cuda drivers on your machine, GPU will not be used.\n",
      "2023-07-27 20:07:52.127457: I tensorflow/core/platform/cpu_feature_guard.cc:182] This TensorFlow binary is optimized to use available CPU instructions in performance-critical operations.\n",
      "To enable the following instructions: AVX2 FMA, in other operations, rebuild TensorFlow with the appropriate compiler flags.\n",
      "2023-07-27 20:07:52.877508: W tensorflow/compiler/tf2tensorrt/utils/py_utils.cc:38] TF-TRT Warning: Could not find TensorRT\n"
     ]
    }
   ],
   "source": [
    "model_url = \"https://tfhub.dev/google/universal-sentence-encoder-multilingual/3\"\n",
    "embeddings = TensorflowHubEmbeddings(model_url=model_url)"
   ]
  },
  {
   "cell_type": "markdown",
   "id": "f367c7ea-418a-47ba-aadc-aa883a58eff4",
   "metadata": {},
   "source": [
    "## Using the VertexAI Cloud SDK"
   ]
  },
  {
   "cell_type": "code",
   "execution_count": 3,
   "id": "e8281e62-68da-439c-9c18-edd3389c28c3",
   "metadata": {},
   "outputs": [],
   "source": [
    "from google.cloud import aiplatform"
   ]
  },
  {
   "cell_type": "code",
   "execution_count": 4,
   "id": "c21862dd-54aa-4752-a541-6e32c07ef4bf",
   "metadata": {},
   "outputs": [],
   "source": [
    "my_index_endpoint = aiplatform.MatchingEngineIndexEndpoint(\n",
    "    index_endpoint_name=''\n",
    ")"
   ]
  },
  {
   "cell_type": "code",
   "execution_count": 5,
   "id": "d76dc24b-fe8c-4202-85c6-02a811255142",
   "metadata": {},
   "outputs": [],
   "source": [
    "query = \"What is a cat\""
   ]
  },
  {
   "cell_type": "code",
   "execution_count": 6,
   "id": "8d0da345-3335-4ff2-a105-38601b9703cb",
   "metadata": {},
   "outputs": [],
   "source": [
    "test_embedding = embeddings.embed_documents([query])"
   ]
  },
  {
   "cell_type": "code",
   "execution_count": 7,
   "id": "2a435399-0d8d-4ede-923e-6eeb5055d549",
   "metadata": {},
   "outputs": [
    {
     "data": {
      "text/plain": [
       "[[MatchNeighbor(id='573273bfe17f3d1400422993', distance=0.6189854145050049),\n",
       "  MatchNeighbor(id='56fae8528f12f3190063029f', distance=0.5641119480133057),\n",
       "  MatchNeighbor(id='5727e7e12ca10214002d992e', distance=0.5142243504524231),\n",
       "  MatchNeighbor(id='572f39d804bcaa1900d7679d', distance=0.5078892111778259),\n",
       "  MatchNeighbor(id='572828b12ca10214002d9f7e', distance=0.5005733966827393)]]"
      ]
     },
     "execution_count": 7,
     "metadata": {},
     "output_type": "execute_result"
    }
   ],
   "source": [
    "my_index_endpoint.find_neighbors(\n",
    "    deployed_index_id=\"mydeployedindex123\", \n",
    "    queries=test_embedding,\n",
    "    num_neighbors=5\n",
    ")"
   ]
  },
  {
   "cell_type": "markdown",
   "id": "8e305229-de53-45cb-8882-c41fe2c2ebfe",
   "metadata": {},
   "source": [
    "## Using LangChain\n",
    "\n",
    "LangChain doesn't support public endpoints at the moment"
   ]
  },
  {
   "cell_type": "code",
   "execution_count": null,
   "id": "6d20a35f-b91f-412d-86a6-cffce9bdf695",
   "metadata": {},
   "outputs": [],
   "source": [
    "vector_store = MatchingEngine.from_components(\n",
    "    project_id=\"\",\n",
    "    region=\"us-central1\",\n",
    "    gcs_bucket_name=\"\",\n",
    "    index_id=\"\",\n",
    "    endpoint_id=\"\",\n",
    "    embedding=embeddings,\n",
    ")"
   ]
  },
  {
   "cell_type": "code",
   "execution_count": null,
   "id": "90ebf973-9ed4-44e9-93c3-7aa7eef2c460",
   "metadata": {
    "scrolled": true
   },
   "outputs": [],
   "source": [
    "vector_store.similarity_search(\"what is a cat?\", k=5)"
   ]
  },
  {
   "cell_type": "code",
   "execution_count": null,
   "id": "ae477e0f-0dc1-4e60-8b96-36181eb7655b",
   "metadata": {},
   "outputs": [],
   "source": []
  }
 ],
 "metadata": {
  "kernelspec": {
   "display_name": "Python 3 (ipykernel)",
   "language": "python",
   "name": "python3"
  },
  "language_info": {
   "codemirror_mode": {
    "name": "ipython",
    "version": 3
   },
   "file_extension": ".py",
   "mimetype": "text/x-python",
   "name": "python",
   "nbconvert_exporter": "python",
   "pygments_lexer": "ipython3",
   "version": "3.9.16"
  }
 },
 "nbformat": 4,
 "nbformat_minor": 5
}
